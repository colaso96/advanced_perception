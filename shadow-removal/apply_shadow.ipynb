{
 "cells": [
  {
   "cell_type": "code",
   "execution_count": null,
   "metadata": {},
   "outputs": [],
   "source": [
    "# (Bronte) Sihan Li, Cole Crescas 2023"
   ]
  },
  {
   "cell_type": "code",
   "execution_count": 1,
   "metadata": {},
   "outputs": [],
   "source": [
    "# Imports\n",
    "\n",
    "import torch\n",
    "from ShadowAttack.shadow_attack import *\n",
    "from ShadowAttack.utils import *\n",
    "from resnet import ResNet"
   ]
  },
  {
   "cell_type": "code",
   "execution_count": 2,
   "metadata": {},
   "outputs": [],
   "source": [
    "GTSRB_DIR = 'data/GTSRB_test/Final_Test/Images'\n",
    "SHADOW_ATTACK_DIR = 'ShadowAttack'"
   ]
  },
  {
   "cell_type": "code",
   "execution_count": null,
   "metadata": {},
   "outputs": [],
   "source": [
    "# Apply shadow attack\n",
    "\n",
    "# Define attack parameters\n",
    "shadow_level = 0.43\n",
    "target_model = 'model_35'\n",
    "attack_db = 'GTSRB'\n",
    "attack_type = 'digital'\n",
    "image_path = GTSRB_DIR\n",
    "mask_path = f'{SHADOW_ATTACK_DIR}/mask'\n",
    "image_label = 0\n",
    "polygon = 3\n",
    "n_try = 5\n",
    "\n",
    "device = torch.device('cuda' if torch.cuda.is_available() else 'cpu')\n",
    "\n",
    "model = ResNet().to(device)\n",
    "model.load_state_dict(\n",
    "    torch.load(f'checkpoints/{target_model}.pth',\n",
    "                map_location=torch.device(device)))\n",
    "pre_process = transforms.Compose([ pre_process_image,\n",
    "transforms.ToTensor(),\n",
    "transforms.Resize((48, 48)),\n",
    "transforms.Normalize((0.3337, 0.3064, 0.3171), ( 0.2672, 0.2564, 0.2629))])\n",
    "\n",
    "model.eval()\n",
    "\n",
    "\n",
    "assert attack_type in ['digital', 'physical']\n",
    "if attack_type == 'digital':\n",
    "    particle_size = 10\n",
    "    iter_num = 10\n",
    "    x_min, x_max = -16, 48\n",
    "    max_speed = 1.5\n",
    "else:\n",
    "    particle_size = 10\n",
    "    iter_num = 20\n",
    "    x_min, x_max = -112, 336\n",
    "    max_speed = 10.\n",
    "    n_try = 1\n",
    "\n",
    "# Digital shadow attack\n",
    "\n",
    "save_dir = f'./adv_img/{attack_db}/{int(shadow_level*100)}'\n",
    "os.makedirs(save_dir, exist_ok=True)\n",
    "\n",
    "with open(f'{SHADOW_ATTACK_DIR}/dataset/{attack_db}/test.pkl', 'rb') as dataset:\n",
    "    test_data = pickle.load(dataset)\n",
    "    images, labels = test_data['data'], test_data['labels']\n",
    "    print(type(images), type(labels))\n",
    "\n",
    "print(\"Start attack on {} images\".format(len(images)))\n",
    "for index in range(len(images)):\n",
    "    mask_type = judge_mask_type(attack_db, labels[index])\n",
    "    if brightness(images[index], mask_list[mask_type]) >= 120:\n",
    "        adv_img, success, num_query = attack(\n",
    "            images[index], labels[index], position_list[mask_type],\n",
    "            model=model, pre_process=pre_process,\n",
    "            n_try=n_try, shadow_level=shadow_level, mask_path=mask_path,\n",
    "            polygon=polygon, particle_size=particle_size, iter_num=iter_num,\n",
    "            target=labels[index], x_min=x_min, x_max=x_max,\n",
    "            )\n",
    "        cv2.imwrite(f\"{save_dir}/{index}_{labels[index]}_{num_query}_{success}.bmp\", adv_img)\n",
    "\n",
    "print(\"Attack finished! Success rate: \", end='')\n",
    "print(Counter(map(lambda x: x[:-4].split('_')[-1],\n",
    "                    os.listdir(save_dir)))['True'] / len(os.listdir(save_dir)))"
   ]
  },
  {
   "cell_type": "code",
   "execution_count": 2,
   "metadata": {},
   "outputs": [],
   "source": [
    "import shutil, os\n",
    "\n",
    "save_dir = f'./shadow_removed_ITSD_0.01'\n",
    "# Process the adv images and put them into label folders\n",
    "for img in os.listdir(save_dir):\n",
    "    img_path = os.path.join(save_dir, img)\n",
    "    label = img.split('_')[1]\n",
    "    os.makedirs(os.path.join(save_dir, label), exist_ok=True)\n",
    "    shutil.move(img_path, os.path.join(save_dir, label))"
   ]
  },
  {
   "cell_type": "code",
   "execution_count": null,
   "metadata": {},
   "outputs": [],
   "source": [
    "# Process the original test imaegs and put them into label folders\n",
    "import pandas as pd\n",
    "import shutil, os\n",
    "\n",
    "label_file = 'data/GTSRB_test/Final_Test/GT-final_test.csv'\n",
    "label_map = pd.read_csv(label_file, sep=';')\n",
    "for img in os.listdir(GTSRB_DIR):\n",
    "    img_path = os.path.join(GTSRB_DIR, img)\n",
    "    try:\n",
    "        label = label_map.loc[int(img[:-4])]['ClassId']\n",
    "    except:\n",
    "        print(img)\n",
    "        continue\n",
    "    os.makedirs(os.path.join(GTSRB_DIR, str(label)), exist_ok=True)\n",
    "    shutil.move(img_path, os.path.join(GTSRB_DIR, str(label)))"
   ]
  },
  {
   "cell_type": "code",
   "execution_count": 7,
   "metadata": {},
   "outputs": [],
   "source": [
    "# Add dummy images to the label folders\n",
    "\n",
    "import os\n",
    "import shutil\n",
    "import random\n",
    "import numpy as np\n",
    "from PIL import Image\n",
    "\n",
    "root = f'./shadow_removed_AISTD_0.02'\n",
    "classes = list(range(43))\n",
    "\n",
    "# create empty image\n",
    "empty_image = np.zeros((48, 48, 3))\n",
    "empty_image = Image.fromarray(empty_image.astype('uint8')).convert('RGB')\n",
    "empty_image.save('empty_image.jpg')\n",
    "\n",
    "# Create dummy folders for missing classes\n",
    "for c in classes:\n",
    "    c = str(c)\n",
    "    if not os.path.exists(os.path.join(root, c)):\n",
    "        os.makedirs(os.path.join(root, c))\n",
    "        shutil.copyfile('empty_image.jpg', os.path.join(root, c, 'empty_image.jpg'))"
   ]
  },
  {
   "cell_type": "code",
   "execution_count": 10,
   "metadata": {},
   "outputs": [
    {
     "data": {
      "image/png": "[encoded data removed]",
      "text/plain": [
       "<Figure size 800x800 with 4 Axes>"
      ]
     },
     "metadata": {},
     "output_type": "display_data"
    }
   ],
   "source": [
    "# Visualize images\n",
    "import matplotlib.pyplot as plt\n",
    "import os\n",
    "import random\n",
    "import numpy as np\n",
    "from PIL import Image\n",
    "\n",
    "data_dir = f'./adv_img/GTSRB/'\n",
    "\n",
    "images = [\n",
    "    '00002/6658_2_2000_False.bmp',\n",
    "    '00009/12609_9_200_False.bmp',\n",
    "    '00018/3566_18_2000_False.bmp',\n",
    "    '00030/7068_30_2000_False.bmp'\n",
    "]\n",
    "# show images on the same plot\n",
    "fig = plt.figure(figsize=(8, 8))\n",
    "columns = 2\n",
    "rows = 2\n",
    "for i in range(1, columns*rows +1):\n",
    "    img = Image.open(os.path.join(data_dir, images[i-1]))\n",
    "    fig.add_subplot(rows, columns, i)\n",
    "    # remove the tick marks\n",
    "    plt.xticks([])\n",
    "    plt.yticks([])\n",
    "    plt.imshow(img)"
   ]
  },
  {
   "cell_type": "code",
   "execution_count": null,
   "metadata": {},
   "outputs": [],
   "source": []
  }
 ],
 "metadata": {
  "kernelspec": {
   "display_name": "Python 3 (ipykernel)",
   "language": "python",
   "name": "python3"
  },
  "language_info": {
   "codemirror_mode": {
    "name": "ipython",
    "version": 3
   },
   "file_extension": ".py",
   "mimetype": "text/x-python",
   "name": "python",
   "nbconvert_exporter": "python",
   "pygments_lexer": "ipython3",
   "version": "3.10.9"
  },
  "orig_nbformat": 4
 },
 "nbformat": 4,
 "nbformat_minor": 2
}
